{
 "cells": [
  {
   "cell_type": "markdown",
   "id": "e8eb7c99",
   "metadata": {},
   "source": [
    "This is just a test to try out Jupyter"
   ]
  },
  {
   "cell_type": "code",
   "execution_count": 4,
   "id": "deefef26",
   "metadata": {},
   "outputs": [
    {
     "name": "stdout",
     "output_type": "stream",
     "text": [
      "enter a the index you want to view: 0\n",
      "Lion\n"
     ]
    }
   ],
   "source": [
    "def example():\n",
    "    index = input(\"enter a the index you want to view: \")\n",
    "    data = [\"Lion\", \"Sedan\", \"Cars\", 110.00, 5.50, 3.30, 119.80, \"2022-12-31\"]\n",
    "    print(data[int(index)])\n",
    "        \n",
    "example()    "
   ]
  }
 ],
 "metadata": {
  "kernelspec": {
   "display_name": "Python 3 (ipykernel)",
   "language": "python",
   "name": "python3"
  },
  "language_info": {
   "codemirror_mode": {
    "name": "ipython",
    "version": 3
   },
   "file_extension": ".py",
   "mimetype": "text/x-python",
   "name": "python",
   "nbconvert_exporter": "python",
   "pygments_lexer": "ipython3",
   "version": "3.11.2"
  }
 },
 "nbformat": 4,
 "nbformat_minor": 5
}
